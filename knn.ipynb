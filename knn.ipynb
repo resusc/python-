{
 "cells": [
  {
   "cell_type": "markdown",
   "metadata": {},
   "source": [
    "# 这是一个knn 的总结"
   ]
  },
  {
   "cell_type": "markdown",
   "metadata": {},
   "source": [
    "# 首先进行准备（存放数据的变量的准备）："
   ]
  },
  {
   "cell_type": "code",
   "execution_count": 1,
   "metadata": {},
   "outputs": [],
   "source": [
    "import  numpy as np\n",
    "import  csv\n",
    "\n",
    "\n",
    "X= np.zeros((351 , 34), dtype= 'float' )\n",
    "#print(X) #此时只是建立了一个数据空间，并没有值\n",
    "y = np.zeros((351 ,) , dtype = \"bool\"  )\n",
    "#上面建立了数据集的模板 并没有数据集\n"
   ]
  },
  {
   "cell_type": "code",
   "execution_count": 2,
   "metadata": {},
   "outputs": [
    {
     "name": "stdout",
     "output_type": "stream",
     "text": [
      "[[0. 0. 0. ... 0. 0. 0.]\n",
      " [0. 0. 0. ... 0. 0. 0.]\n",
      " [0. 0. 0. ... 0. 0. 0.]\n",
      " ...\n",
      " [0. 0. 0. ... 0. 0. 0.]\n",
      " [0. 0. 0. ... 0. 0. 0.]\n",
      " [0. 0. 0. ... 0. 0. 0.]]\n"
     ]
    }
   ],
   "source": [
    "print(X)"
   ]
  },
  {
   "cell_type": "markdown",
   "metadata": {},
   "source": [
    "zeros : 创建一个元素全为0的矩阵，比如a=zeros(3,5);就是创建一个3行5列的0矩阵。 \n"
   ]
  },
  {
   "cell_type": "raw",
   "metadata": {},
   "source": [
    "导入数据"
   ]
  },
  {
   "cell_type": "code",
   "execution_count": 3,
   "metadata": {},
   "outputs": [],
   "source": [
    "dataset = \"D:\\\\resu\\\\python_test\\\\打的程序\\\\程序\\\\ionosphere.data\""
   ]
  },
  {
   "cell_type": "code",
   "execution_count": 4,
   "metadata": {},
   "outputs": [],
   "source": [
    "data = open(\"D:\\\\resu\\\\python_test\\\\打的程序\\\\程序\\\\ionosphere.data\" , \"r\")\n",
    "data = data.read()"
   ]
  },
  {
   "cell_type": "code",
   "execution_count": 5,
   "metadata": {},
   "outputs": [],
   "source": [
    "with open(dataset ,\"r\") as imput_file:\n",
    "    \n",
    "    reder = csv.reader(imput_file)  #将文档以csv 的格式打开\n",
    "    \n",
    "    for i  ,row in enumerate(reder): # 将其标序号并一一枚举各个值\n",
    "        \n",
    "        data = [float(dataum) for dataum in row[: -1]]#(除了最后一行，其他的都要取到)\n",
    "        X[i] = data\n",
    "# ----------------------这句话是什么意思 — （已知样本的具体数据）\n",
    "        y[i] = row[-1] == 'g' #这句话是什么意思 (获取每个个体最后一个类别表示类别的值，把字母转为数字，如果类别为g ，就是1（true）否则为0（false）\n",
    "       # print(\"yi\" , y[i])"
   ]
  },
  {
   "cell_type": "markdown",
   "metadata": {},
   "source": [
    "现在已经将所有数据都保存下来了"
   ]
  },
  {
   "cell_type": "raw",
   "metadata": {},
   "source": [
    "进行数据的处理：\n"
   ]
  },
  {
   "cell_type": "code",
   "execution_count": 6,
   "metadata": {},
   "outputs": [],
   "source": [
    "from sklearn.model_selection import train_test_split\n",
    "\n",
    "#分割数据：\n",
    "x_train , x_test ,y_train ,  y_test = train_test_split(X , y , random_state = 14)\n",
    "\n",
    "# 将数据分割，分为训练集测试集：\n"
   ]
  },
  {
   "cell_type": "code",
   "execution_count": 11,
   "metadata": {},
   "outputs": [
    {
     "name": "stdout",
     "output_type": "stream",
     "text": [
      " the accuracy is 86.363636%\n"
     ]
    }
   ],
   "source": [
    "#训练数据：\n",
    "from sklearn.neighbors import  KNeighborsClassifier\n",
    "estimator = KNeighborsClassifier()\n",
    "estimator.fit(x_train , y_train)\n",
    "\n",
    "#评估表现：\n",
    "y_predict = estimator.predict(x_test)\n",
    "accuracy = np.mean(y_test == y_predict)*100\n",
    "print(\" the accuracy is {0:1f}%\".format(accuracy))"
   ]
  },
  {
   "cell_type": "code",
   "execution_count": 14,
   "metadata": {},
   "outputs": [
    {
     "name": "stdout",
     "output_type": "stream",
     "text": [
      " the accuracy is 0.863636% the accuracy is 0.863636% the accuracy is 0.863636% the accuracy is 0.863636% the accuracy is 0.863636% the accuracy is 0.863636% the accuracy is 0.863636% the accuracy is 0.863636% the accuracy is 0.863636% the accuracy is 0.863636% the accuracy is 0.863636% the accuracy is 0.863636% the accuracy is 0.863636% the accuracy is 0.863636% the accuracy is 0.863636% the accuracy is 0.863636% the accuracy is 0.863636% the accuracy is 0.863636% the accuracy is 0.863636% the accuracy is 0.863636% the accuracy is 0.863636% the accuracy is 0.863636% the accuracy is 0.863636% the accuracy is 0.863636% the accuracy is 0.863636% the accuracy is 0.863636% the accuracy is 0.863636% the accuracy is 0.863636% the accuracy is 0.863636% the accuracy is 0.863636% the accuracy is 0.863636% the accuracy is 0.863636% the accuracy is 0.863636% the accuracy is 0.863636% the accuracy is 0.863636% the accuracy is 0.863636% the accuracy is 0.863636% the accuracy is 0.863636% the accuracy is 0.863636% the accuracy is 0.863636% the accuracy is 0.863636% the accuracy is 0.863636% the accuracy is 0.863636% the accuracy is 0.863636% the accuracy is 0.863636% the accuracy is 0.863636% the accuracy is 0.863636% the accuracy is 0.863636% the accuracy is 0.863636% the accuracy is 0.863636% the accuracy is 0.863636% the accuracy is 0.863636% the accuracy is 0.863636% the accuracy is 0.863636% the accuracy is 0.863636% the accuracy is 0.863636% the accuracy is 0.863636% the accuracy is 0.863636% the accuracy is 0.863636% the accuracy is 0.863636% the accuracy is 0.863636% the accuracy is 0.863636% the accuracy is 0.863636% the accuracy is 0.863636% the accuracy is 0.863636% the accuracy is 0.863636% the accuracy is 0.863636% the accuracy is 0.863636% the accuracy is 0.863636% the accuracy is 0.863636% the accuracy is 0.863636% the accuracy is 0.863636% the accuracy is 0.863636% the accuracy is 0.863636% the accuracy is 0.863636% the accuracy is 0.863636% the accuracy is 0.863636% the accuracy is 0.863636% the accuracy is 0.863636% the accuracy is 0.863636% the accuracy is 0.863636% the accuracy is 0.863636% the accuracy is 0.863636% the accuracy is 0.863636% the accuracy is 0.863636% the accuracy is 0.863636% the accuracy is 0.863636% the accuracy is 0.863636% the accuracy is 0.863636% the accuracy is 0.863636% the accuracy is 0.863636% the accuracy is 0.863636% the accuracy is 0.863636% the accuracy is 0.863636% the accuracy is 0.863636% the accuracy is 0.863636% the accuracy is 0.863636% the accuracy is 0.863636% the accuracy is 0.863636% the accuracy is 0.863636%\n"
     ]
    }
   ],
   "source": [
    "#训练数据：\n",
    "from sklearn.neighbors import  KNeighborsClassifier\n",
    "estimator = KNeighborsClassifier()\n",
    "estimator.fit(x_train , y_train)\n",
    "\n",
    "#评估表现：\n",
    "y_predict = estimator.predict(x_test)\n",
    "accuracy = np.mean(y_test == y_predict)\n",
    "print(\" the accuracy is {0:1f}%\".format(accuracy)*100)#为什么放在这里会有很多打印出来？  因为这个是将那个百分数打印100次，而不是将数字乘以100下面写上正确做法："
   ]
  },
  {
   "cell_type": "code",
   "execution_count": 15,
   "metadata": {},
   "outputs": [
    {
     "name": "stdout",
     "output_type": "stream",
     "text": [
      " the accuracy is 86.363636%\n"
     ]
    }
   ],
   "source": [
    "#训练数据：\n",
    "from sklearn.neighbors import  KNeighborsClassifier\n",
    "estimator = KNeighborsClassifier()\n",
    "estimator.fit(x_train , y_train)\n",
    "\n",
    "#评估表现：\n",
    "y_predict = estimator.predict(x_test)\n",
    "accuracy = np.mean(y_test == y_predict)\n",
    "print(\" the accuracy is {0:1f}%\".format(accuracy*100))"
   ]
  },
  {
   "cell_type": "code",
   "execution_count": 8,
   "metadata": {},
   "outputs": [
    {
     "name": "stdout",
     "output_type": "stream",
     "text": [
      "1111 82.61971830985915\n",
      "the average accuracy is :82.6%\n"
     ]
    }
   ],
   "source": [
    "#交叉验证\n",
    "# from sklearn.cross_validation import cross_val_score\n",
    "from sklearn.model_selection import cross_val_score\n",
    "scores = cross_val_score(estimator , X , y ,scoring= \"accuracy\")\n",
    "average_accuracy = np.mean(scores) *100\n",
    "print(\"1111\",average_accuracy)\n",
    "print(\"the average accuracy is :{0:.1f}%\".format(average_accuracy))"
   ]
  },
  {
   "cell_type": "markdown",
   "metadata": {},
   "source": [
    "一般都采用交叉验证，这样更能体现准确性。"
   ]
  },
  {
   "cell_type": "code",
   "execution_count": 16,
   "metadata": {},
   "outputs": [],
   "source": [
    "#后面 就是调整算法，找到最好的领近数"
   ]
  },
  {
   "cell_type": "code",
   "execution_count": 17,
   "metadata": {},
   "outputs": [],
   "source": [
    "avg_scores= []\n",
    "all_scores =[]\n",
    "parameter_value = list(range(1 ,21 ))# 1-2之间的数；（1）\n"
   ]
  },
  {
   "cell_type": "code",
   "execution_count": 18,
   "metadata": {},
   "outputs": [],
   "source": [
    "for n_neighbors in parameter_value :\n",
    "    estimator = KNeighborsClassifier(n_neighbors =  n_neighbors) #就是临近的数由1 - 20来看准确率\n",
    "    scores = cross_val_score(estimator , X, y ,scoring= \"accuracy\")\n",
    "    avg_scores.append(np.mean(scores))#交叉验证的平均分（测试集不止一个数字） 一堆测试集，每个都有\n",
    "    all_scores.append(scores) #交叉验证"
   ]
  },
  {
   "cell_type": "code",
   "execution_count": 19,
   "metadata": {},
   "outputs": [
    {
     "data": {
      "text/plain": [
       "<Figure size 640x480 with 1 Axes>"
      ]
     },
     "metadata": {},
     "output_type": "display_data"
    }
   ],
   "source": [
    "from  matplotlib import  pylab as plt\n",
    "plt.plot( parameter_value , avg_scores , \"--\")\n",
    "plt.show()"
   ]
  },
  {
   "cell_type": "code",
   "execution_count": 20,
   "metadata": {},
   "outputs": [
    {
     "name": "stdout",
     "output_type": "stream",
     "text": [
      "[0.84507042 0.75714286 0.82857143 0.88571429 0.88571429]\n",
      "orgion_scores 84.0% :\n",
      "[0.69014085 0.67142857 0.64285714 0.67142857 0.64285714]\n",
      "broken_scores66.4% :\n"
     ]
    }
   ],
   "source": [
    "#将数据处理得更规范化：\n",
    "x_broken = np.array(X)\n",
    "#print(\"x_broken1 \\n\",x_broken[2 ,:],\"\\n\")\n",
    "x_broken[: , ::2] /=10\n",
    "#print(\"x_broken2 \\n\",x_broken[2 ,:])\n",
    "#这样就让奇数行比偶数行的数字要小，\n",
    "#然后在来评估数据：\n",
    "#创建knn 的类\n",
    "estmator = KNeighborsClassifier()\n",
    "#进行数据的操作：\n",
    "#交叉验证得值：：\n",
    "orgion_scores1 = cross_val_score(estimator , X, y ,scoring = \"accuracy\")\n",
    "print((orgion_scores1))\n",
    "print(\"orgion_scores {0:.1f}% :\".format(np.mean(orgion_scores1)*100) )\n",
    "\n",
    "#打乱后的：\n",
    "broken_scores = cross_val_score(estimator , x_broken ,y , scoring = \"accuracy\")\n",
    "print(broken_scores)\n",
    "print(\"broken_scores{0:.1f}% :\".format(np.mean(broken_scores)*100) )"
   ]
  },
  {
   "cell_type": "code",
   "execution_count": 21,
   "metadata": {},
   "outputs": [
    {
     "name": "stdout",
     "output_type": "stream",
     "text": [
      "the transfromed_scores is 82.9%\n",
      "the scores is 82.9%\n"
     ]
    }
   ],
   "source": [
    "#用自带的库进行标准化： (以前直接可以fit——transform 的对象是什么？）\n",
    "from  sklearn.preprocessing import MinMaxScaler\n",
    "x_broken_transfromed =  MinMaxScaler().fit_transform(x_broken)\n",
    "#print(x_transfromed)\n",
    "estimator = KNeighborsClassifier()\n",
    "transfromed_scores = cross_val_score(estimator , x_broken_transfromed , y, scoring=\"accuracy\")\n",
    "print(\"the transfromed_scores is {0:.1f}%\".format(np.mean(transfromed_scores)*100))\n",
    "\n",
    "#更好的数据操作就是流水线：\n",
    "from  sklearn.pipeline import Pipeline\n",
    "#使用 MinMaxScaler 将数据统一到0-1；\n",
    "#用knn 分类器\n",
    "#写流水线：\n",
    "scaling_pipline = Pipeline([  ('scale' , MinMaxScaler() )  , ('prdict' , KNeighborsClassifier() )])\n",
    "scores = cross_val_score(scaling_pipline , x_broken , y ,scoring= \"accuracy\" )\n",
    "print( \"the scores is {0:.1f}%\".format(np.mean(scores) *100))\n"
   ]
  },
  {
   "cell_type": "code",
   "execution_count": null,
   "metadata": {},
   "outputs": [],
   "source": []
  }
 ],
 "metadata": {
  "kernelspec": {
   "display_name": "Python 3",
   "language": "python",
   "name": "python3"
  },
  "language_info": {
   "codemirror_mode": {
    "name": "ipython",
    "version": 3
   },
   "file_extension": ".py",
   "mimetype": "text/x-python",
   "name": "python",
   "nbconvert_exporter": "python",
   "pygments_lexer": "ipython3",
   "version": "3.7.4"
  }
 },
 "nbformat": 4,
 "nbformat_minor": 2
}
