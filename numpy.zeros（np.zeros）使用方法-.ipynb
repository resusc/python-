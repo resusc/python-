{
 "cells": [
  {
   "cell_type": "markdown",
   "metadata": {},
   "source": [
    "用法：zeros(shape, dtype=float, order='C')\n",
    "\n",
    "返回：返回来一个给定形状和类型的用0填充的数组；\n",
    "\n",
    "参数：shape:形状\n",
    "\n",
    "            dtype:数据类型，可选参数，默认numpy.float64\n",
    "\n",
    "            dtype类型：t ,位域,如t4代表4位\n",
    "\n",
    "                                 b,布尔值，true or false\n",
    "\n",
    "                                 i,整数,如i8(64位）\n",
    "\n",
    "                                u,无符号整数，u8(64位）\n",
    "\n",
    "                                f,浮点数，f8（64位）\n",
    "\n",
    "                               c,浮点负数，\n",
    "\n",
    "                                o,对象，\n",
    "\n",
    "                               s,a，字符串，s24\n",
    "\n",
    "                               u,unicode,u24\n",
    "\n",
    "            order:可选参数，c代表与c语言类似，行优先；F代表列优先\n",
    " "
   ]
  },
  {
   "cell_type": "code",
   "execution_count": 4,
   "metadata": {},
   "outputs": [
    {
     "name": "stdout",
     "output_type": "stream",
     "text": [
      "[0. 0. 0. 0. 0.]\n"
     ]
    }
   ],
   "source": [
    "import numpy as np \n",
    "data =np.zeros(5)\n",
    "print(data)"
   ]
  },
  {
   "cell_type": "code",
   "execution_count": 5,
   "metadata": {},
   "outputs": [
    {
     "name": "stdout",
     "output_type": "stream",
     "text": [
      "[[0. 0. 0. 0. 0.]\n",
      " [0. 0. 0. 0. 0.]]\n"
     ]
    }
   ],
   "source": [
    "data2 =  np.zeros((2,5))\n",
    "print(data2)"
   ]
  },
  {
   "cell_type": "code",
   "execution_count": null,
   "metadata": {},
   "outputs": [],
   "source": []
  }
 ],
 "metadata": {
  "kernelspec": {
   "display_name": "Python 3",
   "language": "python",
   "name": "python3"
  },
  "language_info": {
   "codemirror_mode": {
    "name": "ipython",
    "version": 3
   },
   "file_extension": ".py",
   "mimetype": "text/x-python",
   "name": "python",
   "nbconvert_exporter": "python",
   "pygments_lexer": "ipython3",
   "version": "3.7.4"
  }
 },
 "nbformat": 4,
 "nbformat_minor": 2
}
